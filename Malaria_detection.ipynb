{
  "nbformat": 4,
  "nbformat_minor": 0,
  "metadata": {
    "colab": {
      "name": "Malaria detection.ipynb",
      "version": "0.3.2",
      "provenance": [],
      "collapsed_sections": [],
      "include_colab_link": true
    },
    "kernelspec": {
      "name": "python3",
      "display_name": "Python 3"
    },
    "accelerator": "GPU"
  },
  "cells": [
    {
      "cell_type": "markdown",
      "metadata": {
        "id": "view-in-github",
        "colab_type": "text"
      },
      "source": [
        "<a href=\"https://colab.research.google.com/github/chetanimg/Malaria-Detection/blob/master/Malaria_detection.ipynb\" target=\"_parent\"><img src=\"https://colab.research.google.com/assets/colab-badge.svg\" alt=\"Open In Colab\"/></a>"
      ]
    },
    {
      "cell_type": "code",
      "metadata": {
        "id": "IOzB2vOBopjF",
        "colab_type": "code",
        "outputId": "05723eec-53c0-4e2e-ce92-13c661884917",
        "colab": {
          "base_uri": "https://localhost:8080/",
          "height": 35
        }
      },
      "source": [
        "from google.colab import drive\n",
        "drive.mount('/content/drive',force_remount=True)"
      ],
      "execution_count": 0,
      "outputs": [
        {
          "output_type": "stream",
          "text": [
            "Mounted at /content/drive\n"
          ],
          "name": "stdout"
        }
      ]
    },
    {
      "cell_type": "code",
      "metadata": {
        "id": "4h754jvJo7ty",
        "colab_type": "code",
        "outputId": "c198f034-0ea4-4c3e-f04e-35e26e12db51",
        "colab": {
          "base_uri": "https://localhost:8080/",
          "height": 35
        }
      },
      "source": [
        "!ls \"/content/drive/My Drive/Datos\""
      ],
      "execution_count": 0,
      "outputs": [
        {
          "output_type": "stream",
          "text": [
            "Test  Untitled0.ipynb  Validation\n"
          ],
          "name": "stdout"
        }
      ]
    },
    {
      "cell_type": "code",
      "metadata": {
        "id": "UEHB6kkKpaXa",
        "colab_type": "code",
        "outputId": "354e95e6-dbc0-4cd5-82db-4236e813eed3",
        "colab": {
          "base_uri": "https://localhost:8080/",
          "height": 35
        }
      },
      "source": [
        "import tensorflow as tf\n",
        "tf.test.gpu_device_name()"
      ],
      "execution_count": 0,
      "outputs": [
        {
          "output_type": "execute_result",
          "data": {
            "text/plain": [
              "'/device:GPU:0'"
            ]
          },
          "metadata": {
            "tags": []
          },
          "execution_count": 4
        }
      ]
    },
    {
      "cell_type": "code",
      "metadata": {
        "id": "zWKcR27q_Xu2",
        "colab_type": "code",
        "outputId": "0077eb62-9d97-44fc-92a2-4b680fe5faa1",
        "colab": {
          "base_uri": "https://localhost:8080/",
          "height": 928
        }
      },
      "source": [
        "from keras.preprocessing.image import ImageDataGenerator\n",
        "from keras.models import Sequential\n",
        "from keras.layers import Dense, Dropout\n",
        "from keras.optimizers import RMSprop\n",
        "from keras.layers import Dense, Dropout, Flatten\n",
        "from keras.layers import Conv2D, MaxPooling2D\n",
        "from keras import backend as K\n",
        "import keras\n",
        "from time import time\n",
        "\n",
        "\n",
        "\n",
        "# DATA SOURCE --------------------------------------------------\n",
        "\n",
        "batch_size = 20\n",
        "\n",
        "train_data_dir = '/content/drive/My Drive/Datos/Test'\n",
        "validation_data_dir = '/content/drive/My Drive/Datos/Validation'\n",
        "\n",
        "# Pre-procesamiento de imágenes\n",
        "\n",
        "train_datagen = ImageDataGenerator(\n",
        "        rescale=1./255,\n",
        "        shear_range=0.2,\n",
        "        zoom_range=0.2,\n",
        "        horizontal_flip=True)\n",
        "\n",
        "test_datagen = ImageDataGenerator(rescale=1./255)\n",
        "\n",
        "train_generator = train_datagen.flow_from_directory(\n",
        "        train_data_dir,\n",
        "        target_size=(100, 100),\n",
        "        batch_size=batch_size,\n",
        "        class_mode='categorical')\n",
        "\n",
        "validation_generator = test_datagen.flow_from_directory(\n",
        "        validation_data_dir,\n",
        "        target_size=(100, 100),\n",
        "        batch_size=32,\n",
        "        class_mode='categorical')\n",
        "\n",
        "# MODEL --------------------------------------------------\n",
        "\n",
        "model = Sequential()\n",
        "model.add(Conv2D(32, kernel_size=(3, 3),\n",
        "                 activation='relu',\n",
        "                 input_shape=(100, 100, 3)))\n",
        "model.add(MaxPooling2D(pool_size=(2, 2)))\n",
        "model.add(Conv2D(32, (3, 3), activation='relu'))\n",
        "model.add(MaxPooling2D(pool_size=(2, 2)))\n",
        "model.add(Dropout(0.25))\n",
        "model.add(Conv2D(64, (3, 3), activation='relu'))\n",
        "model.add(MaxPooling2D(pool_size=(2, 2)))\n",
        "model.add(Dropout(0.45))\n",
        "model.add(Flatten())\n",
        "model.add(Dense(256, activation='relu'))\n",
        "model.add(Dropout(0.5))\n",
        "model.add(Dense(2, activation='softmax'))\n",
        "\n",
        "model.compile(loss=keras.losses.categorical_crossentropy,\n",
        "              optimizer=keras.optimizers.Adadelta(),\n",
        "              metrics=['accuracy'])\n",
        "\n",
        "# TRAINING --------------------------------------------------\n",
        "\n",
        "epochs = 10\n",
        "\n",
        "H = model.fit_generator(\n",
        "        train_generator,\n",
        "        steps_per_epoch=600,\n",
        "        epochs=epochs, \n",
        "        validation_data=validation_generator,\n",
        "        validation_steps=100,\n",
        ")\n",
        "\n",
        "import matplotlib.pyplot as plt\n",
        "import numpy as np\n",
        "N = np.arange(0, epochs)\n",
        "plt.style.use(\"ggplot\")\n",
        "plt.figure(figsize=(12, 8))\n",
        "plt.plot(N, H.history[\"loss\"], label=\"train_loss\")\n",
        "plt.plot(N, H.history[\"val_loss\"], label=\"val_loss\")\n",
        "plt.plot(N, H.history[\"acc\"], label=\"train_acc\")\n",
        "plt.plot(N, H.history[\"val_acc\"], label=\"val_acc\")\n",
        "plt.title(\"Training Loss and Accuracy\")\n",
        "plt.xlabel(\"Epoch #\")\n",
        "plt.ylabel(\"Loss/Accuracy\")\n",
        "plt.legend()"
      ],
      "execution_count": 0,
      "outputs": [
        {
          "output_type": "stream",
          "text": [
            "Found 2000 images belonging to 2 classes.\n",
            "Found 500 images belonging to 2 classes.\n",
            "Epoch 1/10\n",
            "600/600 [==============================] - 59s 98ms/step - loss: 0.6432 - acc: 0.6211 - val_loss: 2.1454 - val_acc: 0.0000e+00\n",
            "Epoch 2/10\n",
            "600/600 [==============================] - 58s 96ms/step - loss: 0.3063 - acc: 0.8820 - val_loss: 0.8024 - val_acc: 0.6419\n",
            "Epoch 3/10\n",
            "600/600 [==============================] - 58s 97ms/step - loss: 0.1606 - acc: 0.9485 - val_loss: 0.3538 - val_acc: 0.8993\n",
            "Epoch 4/10\n",
            "600/600 [==============================] - 56s 93ms/step - loss: 0.1421 - acc: 0.9539 - val_loss: 0.2752 - val_acc: 0.9272\n",
            "Epoch 5/10\n",
            "600/600 [==============================] - 58s 96ms/step - loss: 0.1422 - acc: 0.9551 - val_loss: 0.2463 - val_acc: 0.9194\n",
            "Epoch 6/10\n",
            "600/600 [==============================] - 59s 98ms/step - loss: 0.1377 - acc: 0.9569 - val_loss: 0.2053 - val_acc: 0.9329\n",
            "Epoch 7/10\n",
            "600/600 [==============================] - 57s 96ms/step - loss: 0.1265 - acc: 0.9613 - val_loss: 0.3546 - val_acc: 0.8865\n",
            "Epoch 8/10\n",
            "600/600 [==============================] - 56s 94ms/step - loss: 0.1316 - acc: 0.9592 - val_loss: 0.2424 - val_acc: 0.9227\n",
            "Epoch 9/10\n",
            "600/600 [==============================] - 61s 101ms/step - loss: 0.1213 - acc: 0.9622 - val_loss: 0.2758 - val_acc: 0.9092\n",
            "Epoch 10/10\n",
            "600/600 [==============================] - 59s 98ms/step - loss: 0.1162 - acc: 0.9634 - val_loss: 0.2187 - val_acc: 0.9322\n"
          ],
          "name": "stdout"
        },
        {
          "output_type": "execute_result",
          "data": {
            "text/plain": [
              "<matplotlib.legend.Legend at 0x7efc3fc69780>"
            ]
          },
          "metadata": {
            "tags": []
          },
          "execution_count": 12
        },
        {
          "output_type": "display_data",
          "data": {
            "image/png": "[encoded data removed]",
            "text/plain": [
              "<Figure size 864x576 with 1 Axes>"
            ]
          },
          "metadata": {
            "tags": []
          }
        }
      ]
    },
    {
      "cell_type": "code",
      "metadata": {
        "id": "BUGBCnDtsbBt",
        "colab_type": "code",
        "colab": {}
      },
      "source": [
        ""
      ],
      "execution_count": 0,
      "outputs": []
    }
  ]
}